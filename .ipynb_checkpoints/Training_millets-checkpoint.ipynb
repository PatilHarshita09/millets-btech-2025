{
  "cells": [
    {
      "cell_type": "markdown",
      "metadata": {
        "id": "oHDq77FwtnuA"
      },
      "source": [
        "##Importing Dataset\n"
      ]
    },
    {
      "cell_type": "code",
      "execution_count": null,
      "metadata": {
        "colab": {
          "base_uri": "https://localhost:8080/"
        },
        "id": "T8-qkPhcqusL",
        "outputId": "8ca3e652-e159-4aa4-f1a4-283911fd0ef2"
      },
      "outputs": [
        {
          "name": "stdout",
          "output_type": "stream",
          "text": [
            "Drive already mounted at /content/drive; to attempt to forcibly remount, call drive.mount(\"/content/drive\", force_remount=True).\n"
          ]
        }
      ],
      "source": [
        "from google.colab import drive\n",
        "drive.mount('/content/drive')"
      ]
    },
    {
      "cell_type": "markdown",
      "metadata": {
        "id": "wofWtd-Erbhh"
      },
      "source": [
        "##Importing libraries"
      ]
    },
    {
      "cell_type": "code",
      "execution_count": null,
      "metadata": {
        "id": "30z0GYVnqwL2"
      },
      "outputs": [],
      "source": [
        "import numpy as np\n",
        "import tensorflow as tf\n",
        "import matplotlib.pyplot as plt\n",
        "from keras.models import Sequential"
      ]
    },
    {
      "cell_type": "markdown",
      "metadata": {
        "id": "bu5dfEUvr5Eb"
      },
      "source": [
        "##Data Preprocessing"
      ]
    },
    {
      "cell_type": "markdown",
      "metadata": {
        "id": "lzG0vY0DtjB6"
      },
      "source": [
        "##Training Image preprocessing"
      ]
    },
    {
      "cell_type": "code",
      "execution_count": null,
      "metadata": {
        "colab": {
          "base_uri": "https://localhost:8080/"
        },
        "id": "KqVDdMcPtjxM",
        "outputId": "bf40c2b5-8327-4852-9db4-12115c77aee3"
      },
      "outputs": [
        {
          "name": "stdout",
          "output_type": "stream",
          "text": [
            "Found 746 files belonging to 9 classes.\n"
          ]
        }
      ],
      "source": [
        "training_set = tf.keras.utils.image_dataset_from_directory(\n",
        "    '/content/drive/MyDrive/millets/train',\n",
        "    labels=\"inferred\",\n",
        "    label_mode=\"categorical\",\n",
        "    class_names=None,\n",
        "    color_mode=\"rgb\",\n",
        "    batch_size=32,\n",
        "    image_size=(64, 64),\n",
        "    shuffle=True,\n",
        "    seed=None,\n",
        "    validation_split=None,\n",
        "    subset=None,\n",
        "    interpolation=\"bilinear\",\n",
        "    follow_links=False,\n",
        "    crop_to_aspect_ratio=False\n",
        ")\n"
      ]
    },
    {
      "cell_type": "markdown",
      "metadata": {
        "id": "SidX4MXXwLou"
      },
      "source": [
        "##Validation Image Preprocessing"
      ]
    },
    {
      "cell_type": "code",
      "execution_count": null,
      "metadata": {
        "colab": {
          "base_uri": "https://localhost:8080/"
        },
        "id": "JSFpqPcmvNNd",
        "outputId": "462693df-59bf-41f1-dbc4-1f956366c6b7"
      },
      "outputs": [
        {
          "name": "stdout",
          "output_type": "stream",
          "text": [
            "Found 746 files belonging to 9 classes.\n"
          ]
        }
      ],
      "source": [
        "\n",
        "validation_set = tf.keras.utils.image_dataset_from_directory(\n",
        "    '/content/drive/MyDrive/millets/validate',\n",
        "    labels=\"inferred\",\n",
        "    label_mode=\"categorical\",\n",
        "    class_names=None,\n",
        "    color_mode=\"rgb\",\n",
        "    batch_size=32,\n",
        "    image_size=(64, 64),\n",
        "    shuffle=True,\n",
        "    seed=None,\n",
        "    validation_split=None,\n",
        "    subset=None,\n",
        "    interpolation=\"bilinear\",\n",
        "    follow_links=False,\n",
        "    crop_to_aspect_ratio=False\n",
        ")\n"
      ]
    },
    {
      "cell_type": "markdown",
      "metadata": {
        "id": "FXwOh_Y8TIOD"
      },
      "source": [
        "##Building Model"
      ]
    },
    {
      "cell_type": "code",
      "execution_count": null,
      "metadata": {
        "id": "Xaklr6tKwUt9"
      },
      "outputs": [],
      "source": [
        "cnn = tf.keras.models.Sequential()"
      ]
    },
    {
      "cell_type": "markdown",
      "metadata": {
        "id": "9ZfdcInDq_sH"
      },
      "source": [
        "##Building Convolution Layer"
      ]
    },
    {
      "cell_type": "code",
      "execution_count": null,
      "metadata": {
        "id": "CP3Iwl6KzIoG"
      },
      "outputs": [],
      "source": [
        "cnn.add(tf.keras.layers.Conv2D(filters=64,kernel_size=3,activation='relu',input_shape=[64,64,3]))\n",
        "cnn.add(tf.keras.layers.Conv2D(filters=32,kernel_size=3,activation='relu')) #added to make neural network more deeper\n",
        "cnn.add(tf.keras.layers.MaxPool2D(pool_size=2,strides=2))"
      ]
    },
    {
      "cell_type": "code",
      "execution_count": null,
      "metadata": {
        "id": "3mht-NRerLXb"
      },
      "outputs": [],
      "source": [
        "#again convolution layer\n",
        "cnn.add(tf.keras.layers.Conv2D(filters=32,kernel_size=3,activation='relu'))\n",
        "cnn.add(tf.keras.layers.Conv2D(filters=64,kernel_size=3,activation='relu'))\n",
        "cnn.add(tf.keras.layers.MaxPool2D(pool_size=2,strides=2)) #pooling"
      ]
    },
    {
      "cell_type": "code",
      "execution_count": null,
      "metadata": {
        "id": "tgZ7kO_urOuE"
      },
      "outputs": [],
      "source": [
        "cnn.add(tf.keras.layers.Flatten())\n"
      ]
    },
    {
      "cell_type": "code",
      "execution_count": null,
      "metadata": {
        "id": "KEJDjoMurRGO"
      },
      "outputs": [],
      "source": [
        "cnn.add(tf.keras.layers.Dense(units=512,activation='relu'))\n"
      ]
    },
    {
      "cell_type": "code",
      "execution_count": null,
      "metadata": {
        "id": "rJa7xsVgtF0X"
      },
      "outputs": [],
      "source": [
        "cnn.add(tf.keras.layers.Dense(units=256,activation='relu')) #2 times to make neural network more deeper"
      ]
    },
    {
      "cell_type": "code",
      "execution_count": null,
      "metadata": {
        "id": "0z4AMKgRtPar"
      },
      "outputs": [],
      "source": [
        "cnn.add(tf.keras.layers.Dropout(0.5)) #To avoid overfitting"
      ]
    },
    {
      "cell_type": "code",
      "execution_count": null,
      "metadata": {
        "id": "V2ENK64OrYcL"
      },
      "outputs": [],
      "source": [
        "#Output Layer\n",
        "cnn.add(tf.keras.layers.Dense(units=9,activation='softmax'))\n"
      ]
    },
    {
      "cell_type": "markdown",
      "metadata": {
        "id": "L-LvT28drzYY"
      },
      "source": [
        "##Compiling and Training Phase"
      ]
    },
    {
      "cell_type": "code",
      "execution_count": null,
      "metadata": {
        "id": "A5I1b6EDf4-U"
      },
      "outputs": [],
      "source": [
        "cnn.compile(optimizer='adam',loss='categorical_crossentropy',metrics=['accuracy'])"
      ]
    },
    {
      "cell_type": "code",
      "execution_count": null,
      "metadata": {
        "colab": {
          "base_uri": "https://localhost:8080/"
        },
        "id": "cmYRWIQ6oH7N",
        "outputId": "f452fa35-c5ae-432e-e7fe-f11067eb2d74"
      },
      "outputs": [
        {
          "name": "stdout",
          "output_type": "stream",
          "text": [
            "Model: \"sequential_1\"\n",
            "_________________________________________________________________\n",
            " Layer (type)                Output Shape              Param #   \n",
            "=================================================================\n",
            " conv2d_4 (Conv2D)           (None, 62, 62, 64)        1792      \n",
            "                                                                 \n",
            " conv2d_5 (Conv2D)           (None, 60, 60, 32)        18464     \n",
            "                                                                 \n",
            " max_pooling2d_2 (MaxPoolin  (None, 30, 30, 32)        0         \n",
            " g2D)                                                            \n",
            "                                                                 \n",
            " conv2d_6 (Conv2D)           (None, 28, 28, 32)        9248      \n",
            "                                                                 \n",
            " conv2d_7 (Conv2D)           (None, 26, 26, 64)        18496     \n",
            "                                                                 \n",
            " max_pooling2d_3 (MaxPoolin  (None, 13, 13, 64)        0         \n",
            " g2D)                                                            \n",
            "                                                                 \n",
            " flatten_1 (Flatten)         (None, 10816)             0         \n",
            "                                                                 \n",
            " dense_3 (Dense)             (None, 512)               5538304   \n",
            "                                                                 \n",
            " dense_4 (Dense)             (None, 256)               131328    \n",
            "                                                                 \n",
            " dropout_1 (Dropout)         (None, 256)               0         \n",
            "                                                                 \n",
            " dense_5 (Dense)             (None, 9)                 2313      \n",
            "                                                                 \n",
            "=================================================================\n",
            "Total params: 5719945 (21.82 MB)\n",
            "Trainable params: 5719945 (21.82 MB)\n",
            "Non-trainable params: 0 (0.00 Byte)\n",
            "_________________________________________________________________\n"
          ]
        }
      ],
      "source": [
        "cnn.summary()"
      ]
    },
    {
      "cell_type": "code",
      "execution_count": null,
      "metadata": {
        "colab": {
          "background_save": true,
          "base_uri": "https://localhost:8080/"
        },
        "id": "ZGmjiRPVh23U",
        "outputId": "83f5d948-840e-4a05-c8fe-6c8830f2c6e6"
      },
      "outputs": [
        {
          "name": "stdout",
          "output_type": "stream",
          "text": [
            "Epoch 1/32\n",
            "24/24 [==============================] - 156s 6s/step - loss: 17.7164 - accuracy: 0.1273 - val_loss: 2.1013 - val_accuracy: 0.2386\n",
            "Epoch 2/32\n",
            "24/24 [==============================] - 163s 6s/step - loss: 2.0234 - accuracy: 0.2426 - val_loss: 1.9026 - val_accuracy: 0.2547\n",
            "Epoch 3/32\n",
            "24/24 [==============================] - 166s 6s/step - loss: 1.7485 - accuracy: 0.3365 - val_loss: 1.4783 - val_accuracy: 0.4263\n",
            "Epoch 4/32\n",
            "24/24 [==============================] - 163s 6s/step - loss: 1.5144 - accuracy: 0.4678 - val_loss: 1.1557 - val_accuracy: 0.6340\n",
            "Epoch 5/32\n",
            "24/24 [==============================] - 162s 6s/step - loss: 1.2005 - accuracy: 0.5737 - val_loss: 1.2817 - val_accuracy: 0.5912\n",
            "Epoch 6/32\n",
            "24/24 [==============================] - 171s 6s/step - loss: 1.1925 - accuracy: 0.6005 - val_loss: 0.9418 - val_accuracy: 0.7091\n",
            "Epoch 7/32\n",
            "24/24 [==============================] - 154s 6s/step - loss: 0.8540 - accuracy: 0.7091 - val_loss: 0.4856 - val_accuracy: 0.8458\n",
            "Epoch 8/32\n",
            "24/24 [==============================] - 161s 6s/step - loss: 0.6970 - accuracy: 0.7936 - val_loss: 0.8164 - val_accuracy: 0.7105\n",
            "Epoch 9/32\n",
            "24/24 [==============================] - 159s 6s/step - loss: 0.6579 - accuracy: 0.7895 - val_loss: 0.2148 - val_accuracy: 0.9450\n",
            "Epoch 10/32\n",
            "24/24 [==============================] - 149s 5s/step - loss: 0.3110 - accuracy: 0.9088 - val_loss: 0.1344 - val_accuracy: 0.9745\n",
            "Epoch 11/32\n",
            "24/24 [==============================] - 151s 6s/step - loss: 0.2174 - accuracy: 0.9330 - val_loss: 0.1151 - val_accuracy: 0.9665\n",
            "Epoch 12/32\n",
            "24/24 [==============================] - 161s 6s/step - loss: 0.1590 - accuracy: 0.9531 - val_loss: 0.0366 - val_accuracy: 0.9946\n",
            "Epoch 13/32\n",
            "24/24 [==============================] - 167s 6s/step - loss: 0.1485 - accuracy: 0.9571 - val_loss: 0.0747 - val_accuracy: 0.9839\n",
            "Epoch 14/32\n",
            "24/24 [==============================] - 161s 6s/step - loss: 0.1181 - accuracy: 0.9638 - val_loss: 0.0396 - val_accuracy: 0.9920\n",
            "Epoch 15/32\n",
            "24/24 [==============================] - 162s 6s/step - loss: 0.0736 - accuracy: 0.9853 - val_loss: 0.0064 - val_accuracy: 0.9987\n",
            "Epoch 16/32\n",
            "24/24 [==============================] - 169s 6s/step - loss: 0.0407 - accuracy: 0.9920 - val_loss: 0.0096 - val_accuracy: 0.9987\n",
            "Epoch 17/32\n",
            "24/24 [==============================] - 146s 5s/step - loss: 0.0214 - accuracy: 0.9946 - val_loss: 0.0015 - val_accuracy: 1.0000\n",
            "Epoch 18/32\n",
            "24/24 [==============================] - 160s 6s/step - loss: 0.0233 - accuracy: 0.9920 - val_loss: 0.0089 - val_accuracy: 1.0000\n",
            "Epoch 19/32\n",
            "24/24 [==============================] - 161s 6s/step - loss: 0.0094 - accuracy: 1.0000 - val_loss: 3.4963e-04 - val_accuracy: 1.0000\n",
            "Epoch 20/32\n",
            "24/24 [==============================] - 163s 6s/step - loss: 0.0062 - accuracy: 0.9987 - val_loss: 0.0045 - val_accuracy: 1.0000\n",
            "Epoch 21/32\n",
            "24/24 [==============================] - 160s 6s/step - loss: 0.0452 - accuracy: 0.9839 - val_loss: 0.0129 - val_accuracy: 0.9987\n",
            "Epoch 22/32\n",
            "24/24 [==============================] - 161s 6s/step - loss: 0.0445 - accuracy: 0.9893 - val_loss: 0.0059 - val_accuracy: 0.9987\n",
            "Epoch 23/32\n",
            "24/24 [==============================] - 171s 6s/step - loss: 0.0085 - accuracy: 0.9973 - val_loss: 4.9634e-04 - val_accuracy: 1.0000\n",
            "Epoch 24/32\n",
            "24/24 [==============================] - 160s 6s/step - loss: 0.0043 - accuracy: 0.9987 - val_loss: 3.0677e-04 - val_accuracy: 1.0000\n",
            "Epoch 25/32\n",
            "24/24 [==============================] - 161s 6s/step - loss: 0.0057 - accuracy: 0.9987 - val_loss: 0.0121 - val_accuracy: 0.9987\n",
            "Epoch 26/32\n",
            "24/24 [==============================] - 162s 6s/step - loss: 0.0557 - accuracy: 0.9933 - val_loss: 0.0041 - val_accuracy: 0.9973\n",
            "Epoch 27/32\n",
            "24/24 [==============================] - 149s 5s/step - loss: 0.0453 - accuracy: 0.9853 - val_loss: 0.0087 - val_accuracy: 0.9987\n",
            "Epoch 28/32\n",
            "24/24 [==============================] - 145s 5s/step - loss: 0.0451 - accuracy: 0.9920 - val_loss: 0.0037 - val_accuracy: 0.9987\n",
            "Epoch 29/32\n",
            "24/24 [==============================] - 162s 6s/step - loss: 0.0271 - accuracy: 0.9920 - val_loss: 0.0016 - val_accuracy: 1.0000\n",
            "Epoch 30/32\n",
            "24/24 [==============================] - 170s 6s/step - loss: 0.0831 - accuracy: 0.9826 - val_loss: 0.0326 - val_accuracy: 0.9879\n",
            "Epoch 31/32\n",
            "24/24 [==============================] - 161s 6s/step - loss: 0.0576 - accuracy: 0.9920 - val_loss: 0.0394 - val_accuracy: 0.9906\n",
            "Epoch 32/32\n",
            "24/24 [==============================] - 160s 6s/step - loss: 0.1133 - accuracy: 0.9692 - val_loss: 0.0226 - val_accuracy: 0.9960\n"
          ]
        }
      ],
      "source": [
        "training_history = cnn.fit(x=training_set,validation_data=validation_set,epochs=32)"
      ]
    },
    {
      "cell_type": "markdown",
      "metadata": {
        "id": "aYMsSsX0xA2W"
      },
      "source": [
        "##Evaluating model"
      ]
    },
    {
      "cell_type": "code",
      "execution_count": null,
      "metadata": {
        "colab": {
          "background_save": true
        },
        "id": "0ifxH_gzvNFc",
        "outputId": "d6740e3a-96b1-48df-a033-b13a7a549a14"
      },
      "outputs": [
        {
          "name": "stdout",
          "output_type": "stream",
          "text": [
            "24/24 [==============================] - 76s 2s/step - loss: 0.0226 - accuracy: 0.9960\n",
            "Training accuracy: 0.9959785342216492\n"
          ]
        }
      ],
      "source": [
        "#Training set Accuracy\n",
        "train_loss, train_acc = cnn.evaluate(training_set)\n",
        "print('Training accuracy:', train_acc)\n"
      ]
    },
    {
      "cell_type": "code",
      "execution_count": null,
      "metadata": {
        "colab": {
          "background_save": true
        },
        "id": "xwmbrfj9vlse",
        "outputId": "0a2b130b-8052-4876-c98f-39f0495b6a5d"
      },
      "outputs": [
        {
          "name": "stdout",
          "output_type": "stream",
          "text": [
            "24/24 [==============================] - 70s 2s/step - loss: 0.0226 - accuracy: 0.9960\n",
            "Validation accuracy: 0.9959785342216492\n"
          ]
        }
      ],
      "source": [
        "#Validation set Accuracy\n",
        "val_loss, val_acc = cnn.evaluate(validation_set)\n",
        "print('Validation accuracy:', val_acc)"
      ]
    },
    {
      "cell_type": "markdown",
      "metadata": {
        "id": "t7ot9tPqv-Ew"
      },
      "source": [
        "##Test set evaluation"
      ]
    },
    {
      "cell_type": "code",
      "execution_count": null,
      "metadata": {
        "colab": {
          "background_save": true
        },
        "id": "6GsfqSB9wA6l",
        "outputId": "663298fb-92b4-463e-b7ea-db0b649bbb70"
      },
      "outputs": [
        {
          "name": "stdout",
          "output_type": "stream",
          "text": [
            "Found 136 files belonging to 9 classes.\n"
          ]
        }
      ],
      "source": [
        "test_set = tf.keras.utils.image_dataset_from_directory(\n",
        "    '/content/drive/MyDrive/millets/test',\n",
        "    labels=\"inferred\",\n",
        "    label_mode=\"categorical\",\n",
        "    class_names=None,\n",
        "    color_mode=\"rgb\",\n",
        "    batch_size=32,\n",
        "    image_size=(64, 64),\n",
        "    shuffle=True,\n",
        "    seed=None,\n",
        "    validation_split=None,\n",
        "    subset=None,\n",
        "    interpolation=\"bilinear\",\n",
        "    follow_links=False,\n",
        "    crop_to_aspect_ratio=False\n",
        ")"
      ]
    },
    {
      "cell_type": "markdown",
      "metadata": {
        "id": "CJn9wL4Zj50c"
      },
      "source": [
        "##Saving Model"
      ]
    },
    {
      "cell_type": "code",
      "execution_count": null,
      "metadata": {
        "colab": {
          "background_save": true
        },
        "id": "WGq5s1YdjFad"
      },
      "outputs": [],
      "source": [
        "cnn.save('trained_model.h5')"
      ]
    },
    {
      "cell_type": "code",
      "execution_count": null,
      "metadata": {
        "colab": {
          "background_save": true
        },
        "id": "kqZqD-wGmIFK",
        "outputId": "b1e375a8-2895-4a36-9999-0dd1f62e9648"
      },
      "outputs": [
        {
          "data": {
            "text/plain": [
              "{'loss': [17.716394424438477,\n",
              "  2.0234158039093018,\n",
              "  1.7484952211380005,\n",
              "  1.5144140720367432,\n",
              "  1.2005162239074707,\n",
              "  1.1924920082092285,\n",
              "  0.8539531230926514,\n",
              "  0.6969959735870361,\n",
              "  0.6578540802001953,\n",
              "  0.31097179651260376,\n",
              "  0.21741053462028503,\n",
              "  0.15901245176792145,\n",
              "  0.14850817620754242,\n",
              "  0.11812012642621994,\n",
              "  0.07359421253204346,\n",
              "  0.04072039574384689,\n",
              "  0.021370969712734222,\n",
              "  0.023256804794073105,\n",
              "  0.009372922591865063,\n",
              "  0.0061787632293999195,\n",
              "  0.045171335339546204,\n",
              "  0.04450031369924545,\n",
              "  0.008454608730971813,\n",
              "  0.004276905674487352,\n",
              "  0.00567506393417716,\n",
              "  0.05574638023972511,\n",
              "  0.04531528055667877,\n",
              "  0.04505687206983566,\n",
              "  0.027112022042274475,\n",
              "  0.08307325839996338,\n",
              "  0.05756447836756706,\n",
              "  0.11326352506875992],\n",
              " 'accuracy': [0.12734584510326385,\n",
              "  0.24262735247612,\n",
              "  0.3364611268043518,\n",
              "  0.4678284227848053,\n",
              "  0.5737265348434448,\n",
              "  0.6005361676216125,\n",
              "  0.7091152667999268,\n",
              "  0.7935656905174255,\n",
              "  0.7895442247390747,\n",
              "  0.9088472127914429,\n",
              "  0.9329758882522583,\n",
              "  0.9530830979347229,\n",
              "  0.9571045637130737,\n",
              "  0.9638069868087769,\n",
              "  0.98525470495224,\n",
              "  0.9919571280479431,\n",
              "  0.9946380853652954,\n",
              "  0.9919571280479431,\n",
              "  1.0,\n",
              "  0.9986594915390015,\n",
              "  0.9839141964912415,\n",
              "  0.989276111125946,\n",
              "  0.9973190426826477,\n",
              "  0.9986594915390015,\n",
              "  0.9986594915390015,\n",
              "  0.9932975769042969,\n",
              "  0.98525470495224,\n",
              "  0.9919571280479431,\n",
              "  0.9919571280479431,\n",
              "  0.9825737476348877,\n",
              "  0.9919571280479431,\n",
              "  0.9691689014434814],\n",
              " 'val_loss': [2.101257562637329,\n",
              "  1.9026154279708862,\n",
              "  1.4783364534378052,\n",
              "  1.1557246446609497,\n",
              "  1.2817456722259521,\n",
              "  0.9418191909790039,\n",
              "  0.4856400787830353,\n",
              "  0.8164282441139221,\n",
              "  0.21481285989284515,\n",
              "  0.134403795003891,\n",
              "  0.11511317640542984,\n",
              "  0.036584172397851944,\n",
              "  0.07471400499343872,\n",
              "  0.039559394121170044,\n",
              "  0.006359726656228304,\n",
              "  0.009562351740896702,\n",
              "  0.001450992189347744,\n",
              "  0.008934416808187962,\n",
              "  0.0003496308927424252,\n",
              "  0.004471424035727978,\n",
              "  0.012883615680038929,\n",
              "  0.005903293844312429,\n",
              "  0.0004963355022482574,\n",
              "  0.00030676706228405237,\n",
              "  0.012062051333487034,\n",
              "  0.004065538756549358,\n",
              "  0.008707622066140175,\n",
              "  0.0037320589181035757,\n",
              "  0.001572299748659134,\n",
              "  0.03261515125632286,\n",
              "  0.03940841183066368,\n",
              "  0.022552916780114174],\n",
              " 'val_accuracy': [0.23860590159893036,\n",
              "  0.2546916902065277,\n",
              "  0.4262734651565552,\n",
              "  0.6340482831001282,\n",
              "  0.5911527872085571,\n",
              "  0.7091152667999268,\n",
              "  0.8458445072174072,\n",
              "  0.7104557752609253,\n",
              "  0.945040225982666,\n",
              "  0.974530816078186,\n",
              "  0.9664879441261292,\n",
              "  0.9946380853652954,\n",
              "  0.9839141964912415,\n",
              "  0.9919571280479431,\n",
              "  0.9986594915390015,\n",
              "  0.9986594915390015,\n",
              "  1.0,\n",
              "  1.0,\n",
              "  1.0,\n",
              "  1.0,\n",
              "  0.9986594915390015,\n",
              "  0.9986594915390015,\n",
              "  1.0,\n",
              "  1.0,\n",
              "  0.9986594915390015,\n",
              "  0.9973190426826477,\n",
              "  0.9986594915390015,\n",
              "  0.9986594915390015,\n",
              "  1.0,\n",
              "  0.9879356622695923,\n",
              "  0.9906166195869446,\n",
              "  0.9959785342216492]}"
            ]
          },
          "execution_count": 49,
          "metadata": {},
          "output_type": "execute_result"
        }
      ],
      "source": [
        "training_history.history #Return Dictionary of history"
      ]
    },
    {
      "cell_type": "code",
      "execution_count": null,
      "metadata": {
        "colab": {
          "background_save": true
        },
        "id": "6qsOlHvkmKkF"
      },
      "outputs": [],
      "source": [
        "#Recording History in json\n",
        "import json\n",
        "with open('training_hist.json','w') as f:\n",
        "  json.dump(training_history.history,f)"
      ]
    },
    {
      "cell_type": "code",
      "execution_count": null,
      "metadata": {
        "colab": {
          "background_save": true
        },
        "id": "W8yMG1WfmT2C",
        "outputId": "696aaa04-ff41-44e7-b575-947ef8a23ea3"
      },
      "outputs": [
        {
          "name": "stdout",
          "output_type": "stream",
          "text": [
            "dict_keys(['loss', 'accuracy', 'val_loss', 'val_accuracy'])\n"
          ]
        }
      ],
      "source": [
        "print(training_history.history.keys())"
      ]
    },
    {
      "cell_type": "markdown",
      "metadata": {
        "id": "zgp1C2PcmiBk"
      },
      "source": [
        "##Calculating Accuracy of Model Achieved on Validation set"
      ]
    },
    {
      "cell_type": "code",
      "execution_count": null,
      "metadata": {
        "colab": {
          "background_save": true
        },
        "id": "3QnbaAcBmb0e",
        "outputId": "30423bb7-2ab7-4f51-baff-dd8a83820097"
      },
      "outputs": [
        {
          "name": "stdout",
          "output_type": "stream",
          "text": [
            "Validation set Accuracy: 99.59785342216492 %\n"
          ]
        }
      ],
      "source": [
        "print(\"Validation set Accuracy: {} %\".format(training_history.history['val_accuracy'][-1]*100))"
      ]
    },
    {
      "cell_type": "markdown",
      "metadata": {
        "id": "yPDMaTbTmsR7"
      },
      "source": [
        "##Accuracy Visualization"
      ]
    },
    {
      "cell_type": "markdown",
      "metadata": {
        "id": "5BsmGiFrmvhG"
      },
      "source": [
        "##Training Visualization"
      ]
    },
    {
      "cell_type": "code",
      "execution_count": null,
      "metadata": {
        "colab": {
          "background_save": true
        },
        "id": "gD6_vUQLmmjc"
      },
      "outputs": [],
      "source": [
        "#training_history.history['accuracy']"
      ]
    },
    {
      "cell_type": "code",
      "execution_count": null,
      "metadata": {
        "colab": {
          "background_save": true
        },
        "id": "WR4VgEvum_lh",
        "outputId": "fccd5489-a45f-4110-8fca-318f9771621b"
      },
      "outputs": [
        {
          "data": {
            "image/png": "[encoded data removed]",
            "text/plain": [
              "<Figure size 640x480 with 1 Axes>"
            ]
          },
          "metadata": {},
          "output_type": "display_data"
        }
      ],
      "source": [
        "epochs = [i for i in range(1,33)]\n",
        "plt.plot(epochs,training_history.history['accuracy'],color='red')\n",
        "plt.xlabel('No. of Epochs')\n",
        "plt.ylabel('Traiining Accuracy')\n",
        "plt.title('Visualization of Training Accuracy Result')\n",
        "plt.show()"
      ]
    },
    {
      "cell_type": "markdown",
      "metadata": {
        "id": "tPRDO7VSnHVq"
      },
      "source": [
        "##Validation Accuracy\n"
      ]
    },
    {
      "cell_type": "code",
      "execution_count": null,
      "metadata": {
        "colab": {
          "background_save": true
        },
        "id": "vw7OeO6qnCs8",
        "outputId": "baa88c90-1afa-4531-c8be-f8091463b6ab"
      },
      "outputs": [
        {
          "data": {
            "image/png": "[encoded data removed]",
            "text/plain": [
              "<Figure size 640x480 with 1 Axes>"
            ]
          },
          "metadata": {},
          "output_type": "display_data"
        }
      ],
      "source": [
        "plt.plot(epochs,training_history.history['val_accuracy'],color='blue')\n",
        "plt.xlabel('No. of Epochs')\n",
        "plt.ylabel('Validation Accuracy')\n",
        "plt.title('Visualization of Validation Accuracy Result')\n",
        "plt.show()"
      ]
    },
    {
      "cell_type": "markdown",
      "metadata": {
        "id": "-75H6B9cnQac"
      },
      "source": [
        "##Test set Evaluation"
      ]
    },
    {
      "cell_type": "code",
      "execution_count": null,
      "metadata": {
        "colab": {
          "background_save": true
        },
        "id": "2vWcUq5AnLF1",
        "outputId": "2ccb124b-a73f-482f-f95b-eefd734b45fa"
      },
      "outputs": [
        {
          "name": "stdout",
          "output_type": "stream",
          "text": [
            "Found 136 files belonging to 9 classes.\n"
          ]
        }
      ],
      "source": [
        "test_set = tf.keras.utils.image_dataset_from_directory(\n",
        "    '/content/drive/MyDrive/millets/test',\n",
        "    labels=\"inferred\",\n",
        "    label_mode=\"categorical\",\n",
        "    class_names=None,\n",
        "    color_mode=\"rgb\",\n",
        "    batch_size=32,\n",
        "    image_size=(64, 64),\n",
        "    shuffle=True,\n",
        "    seed=None,\n",
        "    validation_split=None,\n",
        "    subset=None,\n",
        "    interpolation=\"bilinear\",\n",
        "    follow_links=False,\n",
        "    crop_to_aspect_ratio=False\n",
        ")"
      ]
    },
    {
      "cell_type": "code",
      "execution_count": null,
      "metadata": {
        "id": "poS9UtH4nT7r"
      },
      "outputs": [],
      "source": [
        "test_loss,test_acc = cnn.evaluate(test_set)\n",
        "print('Test accuracy:', test_acc)"
      ]
    }
  ],
  "metadata": {
    "colab": {
      "provenance": []
    },
    "kernelspec": {
      "display_name": "Python 3",
      "name": "python3"
    },
    "language_info": {
      "name": "python"
    }
  },
  "nbformat": 4,
  "nbformat_minor": 0
}