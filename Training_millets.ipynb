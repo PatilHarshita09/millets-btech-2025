{
 "cells": [
  {
   "cell_type": "markdown",
   "metadata": {
    "id": "oHDq77FwtnuA"
   },
   "source": [
    "##Importing Dataset\n"
   ]
  },
  {
   "cell_type": "code",
   "execution_count": 1,
   "metadata": {},
   "outputs": [],
   "source": [
    "# pip install matplotlib\n"
   ]
  },
  {
   "cell_type": "markdown",
   "metadata": {
    "id": "wofWtd-Erbhh"
   },
   "source": [
    "##Importing libraries"
   ]
  },
  {
   "cell_type": "code",
   "execution_count": 2,
   "metadata": {
    "id": "30z0GYVnqwL2"
   },
   "outputs": [
    {
     "name": "stdout",
     "output_type": "stream",
     "text": [
      "WARNING:tensorflow:From C:\\Users\\HP\\AppData\\Local\\Programs\\Python\\Python311\\Lib\\site-packages\\keras\\src\\losses.py:2976: The name tf.losses.sparse_softmax_cross_entropy is deprecated. Please use tf.compat.v1.losses.sparse_softmax_cross_entropy instead.\n",
      "\n"
     ]
    }
   ],
   "source": [
    "import numpy as np\n",
    "import tensorflow as tf\n",
    "import matplotlib.pyplot as plt\n",
    "from keras.models import Sequential"
   ]
  },
  {
   "cell_type": "markdown",
   "metadata": {
    "id": "bu5dfEUvr5Eb"
   },
   "source": [
    "##Data Preprocessing"
   ]
  },
  {
   "cell_type": "markdown",
   "metadata": {
    "id": "lzG0vY0DtjB6"
   },
   "source": [
    "##Training Image preprocessing"
   ]
  },
  {
   "cell_type": "code",
   "execution_count": 3,
   "metadata": {
    "colab": {
     "base_uri": "https://localhost:8080/"
    },
    "id": "KqVDdMcPtjxM",
    "outputId": "bf40c2b5-8327-4852-9db4-12115c77aee3"
   },
   "outputs": [
    {
     "name": "stdout",
     "output_type": "stream",
     "text": [
      "Found 800 files belonging to 8 classes.\n"
     ]
    }
   ],
   "source": [
    "training_set = tf.keras.utils.image_dataset_from_directory(\n",
    "    'millets3/train',\n",
    "    labels=\"inferred\",\n",
    "    label_mode=\"categorical\",\n",
    "    class_names=None,\n",
    "    color_mode=\"rgb\",\n",
    "    batch_size=32,\n",
    "    image_size=(64, 64),\n",
    "    shuffle=True,\n",
    "    seed=None,\n",
    "    validation_split=None,\n",
    "    subset=None,\n",
    "    interpolation=\"bilinear\",\n",
    "    follow_links=False,\n",
    "    crop_to_aspect_ratio=False\n",
    ")\n"
   ]
  },
  {
   "cell_type": "markdown",
   "metadata": {
    "id": "SidX4MXXwLou"
   },
   "source": [
    "##Validation Image Preprocessing"
   ]
  },
  {
   "cell_type": "code",
   "execution_count": 4,
   "metadata": {
    "colab": {
     "base_uri": "https://localhost:8080/"
    },
    "id": "JSFpqPcmvNNd",
    "outputId": "462693df-59bf-41f1-dbc4-1f956366c6b7"
   },
   "outputs": [
    {
     "name": "stdout",
     "output_type": "stream",
     "text": [
      "Found 160 files belonging to 8 classes.\n"
     ]
    }
   ],
   "source": [
    "\n",
    "validation_set = tf.keras.utils.image_dataset_from_directory(\n",
    "    'millets3/validate',\n",
    "    labels=\"inferred\",\n",
    "    label_mode=\"categorical\",\n",
    "    class_names=None,\n",
    "    color_mode=\"rgb\",\n",
    "    batch_size=32,\n",
    "    image_size=(64, 64),\n",
    "    shuffle=True,\n",
    "    seed=None,\n",
    "    validation_split=None,\n",
    "    subset=None,\n",
    "    interpolation=\"bilinear\",\n",
    "    follow_links=False,\n",
    "    crop_to_aspect_ratio=False\n",
    ")\n"
   ]
  },
  {
   "cell_type": "markdown",
   "metadata": {
    "id": "FXwOh_Y8TIOD"
   },
   "source": [
    "##Building Model"
   ]
  },
  {
   "cell_type": "code",
   "execution_count": 5,
   "metadata": {
    "id": "Xaklr6tKwUt9"
   },
   "outputs": [
    {
     "name": "stdout",
     "output_type": "stream",
     "text": [
      "WARNING:tensorflow:From C:\\Users\\HP\\AppData\\Local\\Programs\\Python\\Python311\\Lib\\site-packages\\keras\\src\\backend.py:873: The name tf.get_default_graph is deprecated. Please use tf.compat.v1.get_default_graph instead.\n",
      "\n"
     ]
    }
   ],
   "source": [
    "cnn = tf.keras.models.Sequential()"
   ]
  },
  {
   "cell_type": "markdown",
   "metadata": {
    "id": "9ZfdcInDq_sH"
   },
   "source": [
    "##Building Convolution Layer"
   ]
  },
  {
   "cell_type": "code",
   "execution_count": 6,
   "metadata": {
    "id": "CP3Iwl6KzIoG"
   },
   "outputs": [
    {
     "name": "stdout",
     "output_type": "stream",
     "text": [
      "WARNING:tensorflow:From C:\\Users\\HP\\AppData\\Local\\Programs\\Python\\Python311\\Lib\\site-packages\\keras\\src\\layers\\pooling\\max_pooling2d.py:161: The name tf.nn.max_pool is deprecated. Please use tf.nn.max_pool2d instead.\n",
      "\n"
     ]
    }
   ],
   "source": [
    "cnn.add(tf.keras.layers.Conv2D(filters=64,kernel_size=3,activation='relu',input_shape=[64,64,3]))\n",
    "cnn.add(tf.keras.layers.Conv2D(filters=32,kernel_size=3,activation='relu')) #added to make neural network more deeper\n",
    "cnn.add(tf.keras.layers.MaxPool2D(pool_size=2,strides=2))"
   ]
  },
  {
   "cell_type": "code",
   "execution_count": 7,
   "metadata": {
    "id": "3mht-NRerLXb"
   },
   "outputs": [],
   "source": [
    "#again convolution layer\n",
    "cnn.add(tf.keras.layers.Conv2D(filters=32,kernel_size=3,activation='relu'))\n",
    "cnn.add(tf.keras.layers.Conv2D(filters=64,kernel_size=3,activation='relu'))\n",
    "cnn.add(tf.keras.layers.MaxPool2D(pool_size=2,strides=2)) #pooling"
   ]
  },
  {
   "cell_type": "code",
   "execution_count": 8,
   "metadata": {
    "id": "tgZ7kO_urOuE"
   },
   "outputs": [],
   "source": [
    "cnn.add(tf.keras.layers.Flatten())\n"
   ]
  },
  {
   "cell_type": "code",
   "execution_count": 9,
   "metadata": {
    "id": "KEJDjoMurRGO"
   },
   "outputs": [],
   "source": [
    "cnn.add(tf.keras.layers.Dense(units=512,activation='relu'))\n"
   ]
  },
  {
   "cell_type": "code",
   "execution_count": 10,
   "metadata": {
    "id": "rJa7xsVgtF0X"
   },
   "outputs": [],
   "source": [
    "cnn.add(tf.keras.layers.Dense(units=256,activation='relu')) #2 times to make neural network more deeper"
   ]
  },
  {
   "cell_type": "code",
   "execution_count": 11,
   "metadata": {
    "id": "0z4AMKgRtPar"
   },
   "outputs": [],
   "source": [
    "cnn.add(tf.keras.layers.Dropout(0.5)) #To avoid overfitting"
   ]
  },
  {
   "cell_type": "code",
   "execution_count": 12,
   "metadata": {
    "id": "V2ENK64OrYcL"
   },
   "outputs": [],
   "source": [
    "#Output Layer\n",
    "cnn.add(tf.keras.layers.Dense(units=8,activation='softmax'))\n"
   ]
  },
  {
   "cell_type": "markdown",
   "metadata": {
    "id": "L-LvT28drzYY"
   },
   "source": [
    "##Compiling and Training Phase"
   ]
  },
  {
   "cell_type": "code",
   "execution_count": 13,
   "metadata": {
    "id": "A5I1b6EDf4-U"
   },
   "outputs": [
    {
     "name": "stdout",
     "output_type": "stream",
     "text": [
      "WARNING:tensorflow:From C:\\Users\\HP\\AppData\\Local\\Programs\\Python\\Python311\\Lib\\site-packages\\keras\\src\\optimizers\\__init__.py:309: The name tf.train.Optimizer is deprecated. Please use tf.compat.v1.train.Optimizer instead.\n",
      "\n"
     ]
    }
   ],
   "source": [
    "cnn.compile(optimizer='adam',loss='categorical_crossentropy',metrics=['accuracy'])"
   ]
  },
  {
   "cell_type": "code",
   "execution_count": 14,
   "metadata": {
    "colab": {
     "base_uri": "https://localhost:8080/"
    },
    "id": "cmYRWIQ6oH7N",
    "outputId": "f452fa35-c5ae-432e-e7fe-f11067eb2d74"
   },
   "outputs": [
    {
     "name": "stdout",
     "output_type": "stream",
     "text": [
      "Model: \"sequential\"\n",
      "_________________________________________________________________\n",
      " Layer (type)                Output Shape              Param #   \n",
      "=================================================================\n",
      " conv2d (Conv2D)             (None, 62, 62, 64)        1792      \n",
      "                                                                 \n",
      " conv2d_1 (Conv2D)           (None, 60, 60, 32)        18464     \n",
      "                                                                 \n",
      " max_pooling2d (MaxPooling2  (None, 30, 30, 32)        0         \n",
      " D)                                                              \n",
      "                                                                 \n",
      " conv2d_2 (Conv2D)           (None, 28, 28, 32)        9248      \n",
      "                                                                 \n",
      " conv2d_3 (Conv2D)           (None, 26, 26, 64)        18496     \n",
      "                                                                 \n",
      " max_pooling2d_1 (MaxPoolin  (None, 13, 13, 64)        0         \n",
      " g2D)                                                            \n",
      "                                                                 \n",
      " flatten (Flatten)           (None, 10816)             0         \n",
      "                                                                 \n",
      " dense (Dense)               (None, 512)               5538304   \n",
      "                                                                 \n",
      " dense_1 (Dense)             (None, 256)               131328    \n",
      "                                                                 \n",
      " dropout (Dropout)           (None, 256)               0         \n",
      "                                                                 \n",
      " dense_2 (Dense)             (None, 8)                 2056      \n",
      "                                                                 \n",
      "=================================================================\n",
      "Total params: 5719688 (21.82 MB)\n",
      "Trainable params: 5719688 (21.82 MB)\n",
      "Non-trainable params: 0 (0.00 Byte)\n",
      "_________________________________________________________________\n"
     ]
    }
   ],
   "source": [
    "cnn.summary()"
   ]
  },
  {
   "cell_type": "code",
   "execution_count": null,
   "metadata": {
    "colab": {
     "background_save": true,
     "base_uri": "https://localhost:8080/"
    },
    "id": "ZGmjiRPVh23U",
    "outputId": "83f5d948-840e-4a05-c8fe-6c8830f2c6e6"
   },
   "outputs": [
    {
     "name": "stdout",
     "output_type": "stream",
     "text": [
      "Epoch 1/32\n",
      "WARNING:tensorflow:From C:\\Users\\HP\\AppData\\Local\\Programs\\Python\\Python311\\Lib\\site-packages\\keras\\src\\utils\\tf_utils.py:492: The name tf.ragged.RaggedTensorValue is deprecated. Please use tf.compat.v1.ragged.RaggedTensorValue instead.\n",
      "\n",
      "WARNING:tensorflow:From C:\\Users\\HP\\AppData\\Local\\Programs\\Python\\Python311\\Lib\\site-packages\\keras\\src\\engine\\base_layer_utils.py:384: The name tf.executing_eagerly_outside_functions is deprecated. Please use tf.compat.v1.executing_eagerly_outside_functions instead.\n",
      "\n",
      "25/25 [==============================] - 71s 2s/step - loss: 10.5011 - accuracy: 0.1400 - val_loss: 2.0833 - val_accuracy: 0.1562\n",
      "Epoch 2/32\n",
      "25/25 [==============================] - 60s 2s/step - loss: 2.0615 - accuracy: 0.1838 - val_loss: 2.0314 - val_accuracy: 0.2500\n",
      "Epoch 3/32\n",
      "25/25 [==============================] - 33s 973ms/step - loss: 1.9897 - accuracy: 0.2138 - val_loss: 1.9736 - val_accuracy: 0.2688\n",
      "Epoch 4/32\n",
      "25/25 [==============================] - 33s 1s/step - loss: 1.9818 - accuracy: 0.2350 - val_loss: 1.9136 - val_accuracy: 0.2688\n",
      "Epoch 5/32\n",
      "25/25 [==============================] - 33s 1s/step - loss: 1.8855 - accuracy: 0.2837 - val_loss: 1.8079 - val_accuracy: 0.2875\n",
      "Epoch 6/32\n",
      "25/25 [==============================] - 33s 998ms/step - loss: 1.7809 - accuracy: 0.3400 - val_loss: 1.5305 - val_accuracy: 0.4500\n",
      "Epoch 7/32\n",
      "25/25 [==============================] - 33s 993ms/step - loss: 1.6676 - accuracy: 0.3887 - val_loss: 1.4496 - val_accuracy: 0.4688\n",
      "Epoch 8/32\n",
      "25/25 [==============================] - 34s 1s/step - loss: 1.5856 - accuracy: 0.4025 - val_loss: 1.4458 - val_accuracy: 0.4750\n",
      "Epoch 9/32\n",
      "25/25 [==============================] - 33s 993ms/step - loss: 1.4936 - accuracy: 0.4650 - val_loss: 1.0851 - val_accuracy: 0.6187\n",
      "Epoch 10/32\n",
      "25/25 [==============================] - 33s 994ms/step - loss: 1.1902 - accuracy: 0.5875 - val_loss: 0.8891 - val_accuracy: 0.7437\n",
      "Epoch 11/32\n",
      "25/25 [==============================] - 33s 995ms/step - loss: 1.0284 - accuracy: 0.6513 - val_loss: 0.7446 - val_accuracy: 0.7688\n",
      "Epoch 12/32\n",
      "25/25 [==============================] - 33s 1s/step - loss: 1.0394 - accuracy: 0.6413 - val_loss: 0.5208 - val_accuracy: 0.8313\n",
      "Epoch 13/32\n",
      "25/25 [==============================] - 33s 998ms/step - loss: 0.8100 - accuracy: 0.7300 - val_loss: 0.8117 - val_accuracy: 0.8000\n",
      "Epoch 14/32\n",
      "25/25 [==============================] - 33s 998ms/step - loss: 0.8632 - accuracy: 0.7225 - val_loss: 0.4666 - val_accuracy: 0.8562\n",
      "Epoch 15/32\n",
      "25/25 [==============================] - 34s 1s/step - loss: 0.6253 - accuracy: 0.7912 - val_loss: 0.2768 - val_accuracy: 0.9375\n",
      "Epoch 16/32\n",
      "25/25 [==============================] - 35s 1s/step - loss: 0.4759 - accuracy: 0.8512 - val_loss: 0.3317 - val_accuracy: 0.8750\n",
      "Epoch 17/32\n",
      "25/25 [==============================] - 45s 1s/step - loss: 0.3557 - accuracy: 0.8988 - val_loss: 0.1522 - val_accuracy: 0.9688\n",
      "Epoch 18/32\n",
      "25/25 [==============================] - 34s 1s/step - loss: 0.2718 - accuracy: 0.9175 - val_loss: 0.0776 - val_accuracy: 0.9875\n",
      "Epoch 19/32\n",
      "25/25 [==============================] - 34s 1s/step - loss: 0.2326 - accuracy: 0.9237 - val_loss: 0.0855 - val_accuracy: 0.9812\n",
      "Epoch 20/32\n",
      "25/25 [==============================] - 33s 1s/step - loss: 0.1862 - accuracy: 0.9438 - val_loss: 0.0690 - val_accuracy: 0.9812\n",
      "Epoch 21/32\n",
      "25/25 [==============================] - 33s 1s/step - loss: 0.1190 - accuracy: 0.9688 - val_loss: 0.0697 - val_accuracy: 0.9750\n",
      "Epoch 22/32\n",
      "25/25 [==============================] - 42s 1s/step - loss: 0.2064 - accuracy: 0.9425 - val_loss: 0.2427 - val_accuracy: 0.9438\n",
      "Epoch 23/32\n",
      "25/25 [==============================] - 37s 1s/step - loss: 0.2543 - accuracy: 0.9187 - val_loss: 0.1990 - val_accuracy: 0.9375\n",
      "Epoch 24/32\n",
      "25/25 [==============================] - 38s 1s/step - loss: 0.2148 - accuracy: 0.9375 - val_loss: 0.1530 - val_accuracy: 0.9500\n",
      "Epoch 25/32\n",
      "25/25 [==============================] - 42s 1s/step - loss: 0.2225 - accuracy: 0.9337 - val_loss: 0.1583 - val_accuracy: 0.9500\n",
      "Epoch 26/32\n",
      "25/25 [==============================] - 42s 1s/step - loss: 0.2516 - accuracy: 0.9175 - val_loss: 0.2051 - val_accuracy: 0.9500\n",
      "Epoch 27/32\n",
      "25/25 [==============================] - 48s 1s/step - loss: 0.2491 - accuracy: 0.9413 - val_loss: 0.1057 - val_accuracy: 0.9750\n",
      "Epoch 28/32\n",
      "25/25 [==============================] - 38s 1s/step - loss: 0.1479 - accuracy: 0.9538 - val_loss: 0.1259 - val_accuracy: 0.9625\n",
      "Epoch 29/32\n",
      "25/25 [==============================] - 34s 1s/step - loss: 0.1335 - accuracy: 0.9613 - val_loss: 0.0621 - val_accuracy: 0.9812\n",
      "Epoch 30/32\n",
      "25/25 [==============================] - 33s 1s/step - loss: 0.0763 - accuracy: 0.9762 - val_loss: 0.0687 - val_accuracy: 0.9812\n",
      "Epoch 31/32\n",
      "25/25 [==============================] - 39s 1s/step - loss: 0.0988 - accuracy: 0.9712 - val_loss: 0.1149 - val_accuracy: 0.9563\n",
      "Epoch 32/32\n"
     ]
    }
   ],
   "source": [
    "training_history = cnn.fit(x=training_set,validation_data=validation_set,epochs=32)"
   ]
  },
  {
   "cell_type": "markdown",
   "metadata": {
    "id": "aYMsSsX0xA2W"
   },
   "source": [
    "##Evaluating model"
   ]
  },
  {
   "cell_type": "code",
   "execution_count": null,
   "metadata": {
    "colab": {
     "background_save": true
    },
    "id": "0ifxH_gzvNFc",
    "outputId": "d6740e3a-96b1-48df-a033-b13a7a549a14"
   },
   "outputs": [],
   "source": [
    "#Training set Accuracy\n",
    "train_loss, train_acc = cnn.evaluate(training_set)\n",
    "print('Training accuracy:', train_acc)\n"
   ]
  },
  {
   "cell_type": "code",
   "execution_count": null,
   "metadata": {
    "colab": {
     "background_save": true
    },
    "id": "xwmbrfj9vlse",
    "outputId": "0a2b130b-8052-4876-c98f-39f0495b6a5d"
   },
   "outputs": [],
   "source": [
    "#Validation set Accuracy\n",
    "val_loss, val_acc = cnn.evaluate(validation_set)\n",
    "print('Validation accuracy:', val_acc)"
   ]
  },
  {
   "cell_type": "markdown",
   "metadata": {
    "id": "t7ot9tPqv-Ew"
   },
   "source": [
    "##Test set evaluation"
   ]
  },
  {
   "cell_type": "code",
   "execution_count": null,
   "metadata": {
    "colab": {
     "background_save": true
    },
    "id": "6GsfqSB9wA6l",
    "outputId": "663298fb-92b4-463e-b7ea-db0b649bbb70"
   },
   "outputs": [],
   "source": [
    "test_set = tf.keras.utils.image_dataset_from_directory(\n",
    "    'millets3/test',\n",
    "    labels=\"inferred\",\n",
    "    label_mode=\"categorical\",\n",
    "    class_names=None,\n",
    "    color_mode=\"rgb\",\n",
    "    batch_size=32,\n",
    "    image_size=(64, 64),\n",
    "    shuffle=True,\n",
    "    seed=None,\n",
    "    validation_split=None,\n",
    "    subset=None,\n",
    "    interpolation=\"bilinear\",\n",
    "    follow_links=False,\n",
    "    crop_to_aspect_ratio=False\n",
    ")"
   ]
  },
  {
   "cell_type": "markdown",
   "metadata": {
    "id": "CJn9wL4Zj50c"
   },
   "source": [
    "##Saving Model"
   ]
  },
  {
   "cell_type": "code",
   "execution_count": null,
   "metadata": {
    "colab": {
     "background_save": true
    },
    "id": "WGq5s1YdjFad"
   },
   "outputs": [],
   "source": [
    "cnn.save('trained_model.h5')"
   ]
  },
  {
   "cell_type": "code",
   "execution_count": null,
   "metadata": {
    "colab": {
     "background_save": true
    },
    "id": "kqZqD-wGmIFK",
    "outputId": "b1e375a8-2895-4a36-9999-0dd1f62e9648"
   },
   "outputs": [],
   "source": [
    "training_history.history #Return Dictionary of history"
   ]
  },
  {
   "cell_type": "code",
   "execution_count": null,
   "metadata": {
    "colab": {
     "background_save": true
    },
    "id": "6qsOlHvkmKkF"
   },
   "outputs": [],
   "source": [
    "#Recording History in json\n",
    "import json\n",
    "with open('training_hist.json','w') as f:\n",
    "  json.dump(training_history.history,f)"
   ]
  },
  {
   "cell_type": "code",
   "execution_count": null,
   "metadata": {
    "colab": {
     "background_save": true
    },
    "id": "W8yMG1WfmT2C",
    "outputId": "696aaa04-ff41-44e7-b575-947ef8a23ea3"
   },
   "outputs": [],
   "source": [
    "print(training_history.history.keys())"
   ]
  },
  {
   "cell_type": "markdown",
   "metadata": {
    "id": "zgp1C2PcmiBk"
   },
   "source": [
    "##Calculating Accuracy of Model Achieved on Validation set"
   ]
  },
  {
   "cell_type": "code",
   "execution_count": null,
   "metadata": {
    "colab": {
     "background_save": true
    },
    "id": "3QnbaAcBmb0e",
    "outputId": "30423bb7-2ab7-4f51-baff-dd8a83820097"
   },
   "outputs": [],
   "source": [
    "print(\"Validation set Accuracy: {} %\".format(training_history.history['val_accuracy'][-1]*100))"
   ]
  },
  {
   "cell_type": "markdown",
   "metadata": {
    "id": "yPDMaTbTmsR7"
   },
   "source": [
    "##Accuracy Visualization"
   ]
  },
  {
   "cell_type": "markdown",
   "metadata": {
    "id": "5BsmGiFrmvhG"
   },
   "source": [
    "##Training Visualization"
   ]
  },
  {
   "cell_type": "code",
   "execution_count": null,
   "metadata": {
    "colab": {
     "background_save": true
    },
    "id": "gD6_vUQLmmjc"
   },
   "outputs": [],
   "source": [
    "#training_history.history['accuracy']"
   ]
  },
  {
   "cell_type": "code",
   "execution_count": null,
   "metadata": {
    "colab": {
     "background_save": true
    },
    "id": "WR4VgEvum_lh",
    "outputId": "fccd5489-a45f-4110-8fca-318f9771621b"
   },
   "outputs": [],
   "source": [
    "epochs = [i for i in range(1,33)]\n",
    "plt.plot(epochs,training_history.history['accuracy'],color='red')\n",
    "plt.xlabel('No. of Epochs')\n",
    "plt.ylabel('Traiining Accuracy')\n",
    "plt.title('Visualization of Training Accuracy Result')\n",
    "plt.show()"
   ]
  },
  {
   "cell_type": "markdown",
   "metadata": {
    "id": "tPRDO7VSnHVq"
   },
   "source": [
    "##Validation Accuracy\n"
   ]
  },
  {
   "cell_type": "code",
   "execution_count": null,
   "metadata": {
    "colab": {
     "background_save": true
    },
    "id": "vw7OeO6qnCs8",
    "outputId": "baa88c90-1afa-4531-c8be-f8091463b6ab"
   },
   "outputs": [],
   "source": [
    "plt.plot(epochs,training_history.history['val_accuracy'],color='blue')\n",
    "plt.xlabel('No. of Epochs')\n",
    "plt.ylabel('Validation Accuracy')\n",
    "plt.title('Visualization of Validation Accuracy Result')\n",
    "plt.show()"
   ]
  },
  {
   "cell_type": "markdown",
   "metadata": {
    "id": "-75H6B9cnQac"
   },
   "source": [
    "##Test set Evaluation"
   ]
  },
  {
   "cell_type": "code",
   "execution_count": null,
   "metadata": {
    "colab": {
     "background_save": true
    },
    "id": "2vWcUq5AnLF1",
    "outputId": "2ccb124b-a73f-482f-f95b-eefd734b45fa"
   },
   "outputs": [],
   "source": [
    "test_set = tf.keras.utils.image_dataset_from_directory(\n",
    "    'millets3/test',\n",
    "    labels=\"inferred\",\n",
    "    label_mode=\"categorical\",\n",
    "    class_names=None,\n",
    "    color_mode=\"rgb\",\n",
    "    batch_size=32,\n",
    "    image_size=(64, 64),\n",
    "    shuffle=True,\n",
    "    seed=None,\n",
    "    validation_split=None,\n",
    "    subset=None,\n",
    "    interpolation=\"bilinear\",\n",
    "    follow_links=False,\n",
    "    crop_to_aspect_ratio=False\n",
    ")"
   ]
  },
  {
   "cell_type": "code",
   "execution_count": null,
   "metadata": {
    "id": "poS9UtH4nT7r"
   },
   "outputs": [],
   "source": [
    "test_loss,test_acc = cnn.evaluate(test_set)\n",
    "print('Test accuracy:', test_acc)"
   ]
  }
 ],
 "metadata": {
  "colab": {
   "provenance": []
  },
  "kernelspec": {
   "display_name": "Python 3 (ipykernel)",
   "language": "python",
   "name": "python3"
  },
  "language_info": {
   "codemirror_mode": {
    "name": "ipython",
    "version": 3
   },
   "file_extension": ".py",
   "mimetype": "text/x-python",
   "name": "python",
   "nbconvert_exporter": "python",
   "pygments_lexer": "ipython3",
   "version": "3.11.4"
  }
 },
 "nbformat": 4,
 "nbformat_minor": 4
}
