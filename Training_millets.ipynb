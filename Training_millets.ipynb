{
  "cells": [
    {
      "cell_type": "markdown",
      "metadata": {
        "id": "oHDq77FwtnuA"
      },
      "source": [
        "##Importing Dataset\n"
      ]
    },
    {
      "cell_type": "code",
      "execution_count": 2,
      "metadata": {
        "id": "5aQs4pUva1ky"
      },
      "outputs": [],
      "source": [
        "# pip install matplotlib\n"
      ]
    },
    {
      "cell_type": "markdown",
      "metadata": {
        "id": "wofWtd-Erbhh"
      },
      "source": [
        "##Importing libraries"
      ]
    },
    {
      "cell_type": "code",
      "execution_count": 3,
      "metadata": {
        "id": "30z0GYVnqwL2"
      },
      "outputs": [],
      "source": [
        "import numpy as np\n",
        "import tensorflow as tf\n",
        "import matplotlib.pyplot as plt\n",
        "from keras.models import Sequential"
      ]
    },
    {
      "cell_type": "markdown",
      "metadata": {
        "id": "bu5dfEUvr5Eb"
      },
      "source": [
        "##Data Preprocessing"
      ]
    },
    {
      "cell_type": "markdown",
      "metadata": {
        "id": "lzG0vY0DtjB6"
      },
      "source": [
        "##Training Image preprocessing"
      ]
    },
    {
      "cell_type": "code",
      "execution_count": 4,
      "metadata": {
        "colab": {
          "base_uri": "https://localhost:8080/"
        },
        "id": "KqVDdMcPtjxM",
        "outputId": "9a160f2a-d592-4611-fba6-fed31583a7c8"
      },
      "outputs": [
        {
          "output_type": "stream",
          "name": "stdout",
          "text": [
            "Found 700 files belonging to 7 classes.\n"
          ]
        }
      ],
      "source": [
        "training_set = tf.keras.utils.image_dataset_from_directory(\n",
        "    '/content/drive/MyDrive/Millets_dataset/millets3/train',\n",
        "    labels=\"inferred\",\n",
        "    label_mode=\"categorical\",\n",
        "    class_names=None,\n",
        "    color_mode=\"rgb\",\n",
        "    batch_size=32,\n",
        "    image_size=(64, 64),\n",
        "    shuffle=True,\n",
        "    seed=None,\n",
        "    validation_split=None,\n",
        "    subset=None,\n",
        "    interpolation=\"bilinear\",\n",
        "    follow_links=False,\n",
        "    crop_to_aspect_ratio=False\n",
        ")\n"
      ]
    },
    {
      "cell_type": "markdown",
      "metadata": {
        "id": "SidX4MXXwLou"
      },
      "source": [
        "##Validation Image Preprocessing"
      ]
    },
    {
      "cell_type": "code",
      "execution_count": 5,
      "metadata": {
        "id": "JSFpqPcmvNNd",
        "colab": {
          "base_uri": "https://localhost:8080/"
        },
        "outputId": "a8154149-4454-4fd4-d5ba-ed27f25c3e65"
      },
      "outputs": [
        {
          "output_type": "stream",
          "name": "stdout",
          "text": [
            "Found 140 files belonging to 7 classes.\n"
          ]
        }
      ],
      "source": [
        "\n",
        "validation_set = tf.keras.utils.image_dataset_from_directory(\n",
        "    '/content/drive/MyDrive/Millets_dataset/millets3/validate',\n",
        "    labels=\"inferred\",\n",
        "    label_mode=\"categorical\",\n",
        "    class_names=None,\n",
        "    color_mode=\"rgb\",\n",
        "    batch_size=32,\n",
        "    image_size=(64, 64),\n",
        "    shuffle=True,\n",
        "    seed=None,\n",
        "    validation_split=None,\n",
        "    subset=None,\n",
        "    interpolation=\"bilinear\",\n",
        "    follow_links=False,\n",
        "    crop_to_aspect_ratio=False\n",
        ")\n"
      ]
    },
    {
      "cell_type": "markdown",
      "metadata": {
        "id": "FXwOh_Y8TIOD"
      },
      "source": [
        "##Building Model"
      ]
    },
    {
      "cell_type": "code",
      "execution_count": 6,
      "metadata": {
        "id": "Xaklr6tKwUt9"
      },
      "outputs": [],
      "source": [
        "cnn = tf.keras.models.Sequential()"
      ]
    },
    {
      "cell_type": "markdown",
      "metadata": {
        "id": "9ZfdcInDq_sH"
      },
      "source": [
        "##Building Convolution Layer"
      ]
    },
    {
      "cell_type": "code",
      "execution_count": 7,
      "metadata": {
        "id": "CP3Iwl6KzIoG"
      },
      "outputs": [],
      "source": [
        "cnn.add(tf.keras.layers.Conv2D(filters=64,kernel_size=3,activation='relu',input_shape=[64,64,3]))\n",
        "cnn.add(tf.keras.layers.Conv2D(filters=32,kernel_size=3,activation='relu')) #added to make neural network more deeper\n",
        "cnn.add(tf.keras.layers.MaxPool2D(pool_size=2,strides=2))"
      ]
    },
    {
      "cell_type": "code",
      "execution_count": 8,
      "metadata": {
        "id": "3mht-NRerLXb"
      },
      "outputs": [],
      "source": [
        "#again convolution layer\n",
        "cnn.add(tf.keras.layers.Conv2D(filters=32,kernel_size=3,activation='relu'))\n",
        "cnn.add(tf.keras.layers.Conv2D(filters=64,kernel_size=3,activation='relu'))\n",
        "cnn.add(tf.keras.layers.MaxPool2D(pool_size=2,strides=2)) #pooling"
      ]
    },
    {
      "cell_type": "code",
      "execution_count": 9,
      "metadata": {
        "id": "tgZ7kO_urOuE"
      },
      "outputs": [],
      "source": [
        "cnn.add(tf.keras.layers.Flatten())\n"
      ]
    },
    {
      "cell_type": "code",
      "execution_count": 10,
      "metadata": {
        "id": "KEJDjoMurRGO"
      },
      "outputs": [],
      "source": [
        "cnn.add(tf.keras.layers.Dense(units=512,activation='relu'))\n"
      ]
    },
    {
      "cell_type": "code",
      "execution_count": 11,
      "metadata": {
        "id": "rJa7xsVgtF0X"
      },
      "outputs": [],
      "source": [
        "cnn.add(tf.keras.layers.Dense(units=256,activation='relu')) #2 times to make neural network more deeper"
      ]
    },
    {
      "cell_type": "code",
      "execution_count": 12,
      "metadata": {
        "id": "0z4AMKgRtPar"
      },
      "outputs": [],
      "source": [
        "cnn.add(tf.keras.layers.Dropout(0.5)) #To avoid overfitting"
      ]
    },
    {
      "cell_type": "code",
      "execution_count": 13,
      "metadata": {
        "id": "V2ENK64OrYcL"
      },
      "outputs": [],
      "source": [
        "#Output Layer\n",
        "cnn.add(tf.keras.layers.Dense(units=7,activation='softmax'))\n"
      ]
    },
    {
      "cell_type": "markdown",
      "metadata": {
        "id": "L-LvT28drzYY"
      },
      "source": [
        "##Compiling and Training Phase"
      ]
    },
    {
      "cell_type": "code",
      "execution_count": 14,
      "metadata": {
        "id": "A5I1b6EDf4-U"
      },
      "outputs": [],
      "source": [
        "cnn.compile(optimizer='adam',loss='categorical_crossentropy',metrics=['accuracy'])"
      ]
    },
    {
      "cell_type": "code",
      "execution_count": 15,
      "metadata": {
        "id": "cmYRWIQ6oH7N",
        "colab": {
          "base_uri": "https://localhost:8080/"
        },
        "outputId": "99ce1727-0673-49d2-f033-22ffd48a891d"
      },
      "outputs": [
        {
          "output_type": "stream",
          "name": "stdout",
          "text": [
            "Model: \"sequential\"\n",
            "_________________________________________________________________\n",
            " Layer (type)                Output Shape              Param #   \n",
            "=================================================================\n",
            " conv2d (Conv2D)             (None, 62, 62, 64)        1792      \n",
            "                                                                 \n",
            " conv2d_1 (Conv2D)           (None, 60, 60, 32)        18464     \n",
            "                                                                 \n",
            " max_pooling2d (MaxPooling2  (None, 30, 30, 32)        0         \n",
            " D)                                                              \n",
            "                                                                 \n",
            " conv2d_2 (Conv2D)           (None, 28, 28, 32)        9248      \n",
            "                                                                 \n",
            " conv2d_3 (Conv2D)           (None, 26, 26, 64)        18496     \n",
            "                                                                 \n",
            " max_pooling2d_1 (MaxPoolin  (None, 13, 13, 64)        0         \n",
            " g2D)                                                            \n",
            "                                                                 \n",
            " flatten (Flatten)           (None, 10816)             0         \n",
            "                                                                 \n",
            " dense (Dense)               (None, 512)               5538304   \n",
            "                                                                 \n",
            " dense_1 (Dense)             (None, 256)               131328    \n",
            "                                                                 \n",
            " dropout (Dropout)           (None, 256)               0         \n",
            "                                                                 \n",
            " dense_2 (Dense)             (None, 7)                 1799      \n",
            "                                                                 \n",
            "=================================================================\n",
            "Total params: 5719431 (21.82 MB)\n",
            "Trainable params: 5719431 (21.82 MB)\n",
            "Non-trainable params: 0 (0.00 Byte)\n",
            "_________________________________________________________________\n"
          ]
        }
      ],
      "source": [
        "cnn.summary()"
      ]
    },
    {
      "cell_type": "code",
      "execution_count": 16,
      "metadata": {
        "id": "ZGmjiRPVh23U",
        "colab": {
          "base_uri": "https://localhost:8080/"
        },
        "outputId": "7e4bb3c5-0047-43bb-f66e-8fdf74d94769"
      },
      "outputs": [
        {
          "output_type": "stream",
          "name": "stdout",
          "text": [
            "Epoch 1/32\n",
            "22/22 [==============================] - 237s 7s/step - loss: 12.2486 - accuracy: 0.1657 - val_loss: 1.9552 - val_accuracy: 0.2000\n",
            "Epoch 2/32\n",
            "22/22 [==============================] - 72s 2s/step - loss: 1.9103 - accuracy: 0.2086 - val_loss: 1.9245 - val_accuracy: 0.1857\n",
            "Epoch 3/32\n",
            "22/22 [==============================] - 82s 3s/step - loss: 1.8918 - accuracy: 0.2086 - val_loss: 1.8432 - val_accuracy: 0.2429\n",
            "Epoch 4/32\n",
            "22/22 [==============================] - 75s 3s/step - loss: 1.8485 - accuracy: 0.2200 - val_loss: 1.8002 - val_accuracy: 0.2786\n",
            "Epoch 5/32\n",
            "22/22 [==============================] - 73s 2s/step - loss: 1.7937 - accuracy: 0.2914 - val_loss: 1.6555 - val_accuracy: 0.2929\n",
            "Epoch 6/32\n",
            "22/22 [==============================] - 75s 3s/step - loss: 1.6934 - accuracy: 0.3129 - val_loss: 1.5383 - val_accuracy: 0.3857\n",
            "Epoch 7/32\n",
            "22/22 [==============================] - 74s 3s/step - loss: 1.6876 - accuracy: 0.3114 - val_loss: 1.5568 - val_accuracy: 0.3929\n",
            "Epoch 8/32\n",
            "22/22 [==============================] - 75s 3s/step - loss: 1.5800 - accuracy: 0.3729 - val_loss: 1.3993 - val_accuracy: 0.4571\n",
            "Epoch 9/32\n",
            "22/22 [==============================] - 76s 3s/step - loss: 1.4686 - accuracy: 0.4343 - val_loss: 1.2664 - val_accuracy: 0.5286\n",
            "Epoch 10/32\n",
            "22/22 [==============================] - 76s 2s/step - loss: 1.4450 - accuracy: 0.4514 - val_loss: 1.4221 - val_accuracy: 0.4500\n",
            "Epoch 11/32\n",
            "22/22 [==============================] - 72s 2s/step - loss: 1.2644 - accuracy: 0.5271 - val_loss: 0.9024 - val_accuracy: 0.6643\n",
            "Epoch 12/32\n",
            "22/22 [==============================] - 71s 2s/step - loss: 1.1564 - accuracy: 0.6000 - val_loss: 1.1582 - val_accuracy: 0.5786\n",
            "Epoch 13/32\n",
            "22/22 [==============================] - 73s 3s/step - loss: 1.1366 - accuracy: 0.5700 - val_loss: 0.7792 - val_accuracy: 0.7143\n",
            "Epoch 14/32\n",
            "22/22 [==============================] - 70s 2s/step - loss: 0.9442 - accuracy: 0.6814 - val_loss: 0.9286 - val_accuracy: 0.7571\n",
            "Epoch 15/32\n",
            "22/22 [==============================] - 76s 3s/step - loss: 0.7888 - accuracy: 0.7400 - val_loss: 0.5507 - val_accuracy: 0.8429\n",
            "Epoch 16/32\n",
            "22/22 [==============================] - 73s 2s/step - loss: 0.7793 - accuracy: 0.7257 - val_loss: 0.6055 - val_accuracy: 0.8286\n",
            "Epoch 17/32\n",
            "22/22 [==============================] - 75s 3s/step - loss: 0.6441 - accuracy: 0.7886 - val_loss: 0.6128 - val_accuracy: 0.8214\n",
            "Epoch 18/32\n",
            "22/22 [==============================] - 79s 3s/step - loss: 0.5929 - accuracy: 0.8029 - val_loss: 0.5764 - val_accuracy: 0.8214\n",
            "Epoch 19/32\n",
            "22/22 [==============================] - 70s 2s/step - loss: 0.5174 - accuracy: 0.8257 - val_loss: 0.3407 - val_accuracy: 0.8929\n",
            "Epoch 20/32\n",
            "22/22 [==============================] - 73s 2s/step - loss: 0.4003 - accuracy: 0.8643 - val_loss: 0.3955 - val_accuracy: 0.8786\n",
            "Epoch 21/32\n",
            "22/22 [==============================] - 73s 2s/step - loss: 0.3316 - accuracy: 0.8943 - val_loss: 0.6270 - val_accuracy: 0.8714\n",
            "Epoch 22/32\n",
            "22/22 [==============================] - 77s 3s/step - loss: 0.2959 - accuracy: 0.9143 - val_loss: 0.5461 - val_accuracy: 0.9429\n",
            "Epoch 23/32\n",
            "22/22 [==============================] - 74s 3s/step - loss: 0.2442 - accuracy: 0.9257 - val_loss: 0.4325 - val_accuracy: 0.8714\n",
            "Epoch 24/32\n",
            "22/22 [==============================] - 76s 3s/step - loss: 0.3127 - accuracy: 0.8971 - val_loss: 0.5184 - val_accuracy: 0.8786\n",
            "Epoch 25/32\n",
            "22/22 [==============================] - 79s 3s/step - loss: 0.2768 - accuracy: 0.9200 - val_loss: 0.5073 - val_accuracy: 0.8714\n",
            "Epoch 26/32\n",
            "22/22 [==============================] - 72s 2s/step - loss: 0.3835 - accuracy: 0.9086 - val_loss: 0.4093 - val_accuracy: 0.9429\n",
            "Epoch 27/32\n",
            "22/22 [==============================] - 71s 2s/step - loss: 0.1815 - accuracy: 0.9471 - val_loss: 0.1887 - val_accuracy: 0.9714\n",
            "Epoch 28/32\n",
            "22/22 [==============================] - 71s 2s/step - loss: 0.1600 - accuracy: 0.9543 - val_loss: 0.3337 - val_accuracy: 0.9429\n",
            "Epoch 29/32\n",
            "22/22 [==============================] - 75s 3s/step - loss: 0.0888 - accuracy: 0.9757 - val_loss: 0.3295 - val_accuracy: 0.9571\n",
            "Epoch 30/32\n",
            "22/22 [==============================] - 72s 2s/step - loss: 0.0697 - accuracy: 0.9843 - val_loss: 0.4519 - val_accuracy: 0.9643\n",
            "Epoch 31/32\n",
            "22/22 [==============================] - 72s 2s/step - loss: 0.0878 - accuracy: 0.9814 - val_loss: 0.3271 - val_accuracy: 0.9643\n",
            "Epoch 32/32\n",
            "22/22 [==============================] - 77s 3s/step - loss: 0.0549 - accuracy: 0.9857 - val_loss: 0.3304 - val_accuracy: 0.9643\n"
          ]
        }
      ],
      "source": [
        "training_history = cnn.fit(x=training_set,validation_data=validation_set,epochs=32)"
      ]
    },
    {
      "cell_type": "markdown",
      "metadata": {
        "id": "aYMsSsX0xA2W"
      },
      "source": [
        "##Evaluating model"
      ]
    },
    {
      "cell_type": "code",
      "execution_count": 17,
      "metadata": {
        "id": "0ifxH_gzvNFc",
        "colab": {
          "base_uri": "https://localhost:8080/"
        },
        "outputId": "0e37e08e-61ca-47b1-e1b9-9b3bec0f79f9"
      },
      "outputs": [
        {
          "output_type": "stream",
          "name": "stdout",
          "text": [
            "22/22 [==============================] - 69s 2s/step - loss: 0.0263 - accuracy: 0.9929\n",
            "Training accuracy: 0.9928571581840515\n"
          ]
        }
      ],
      "source": [
        "#Training set Accuracy\n",
        "train_loss, train_acc = cnn.evaluate(training_set)\n",
        "print('Training accuracy:', train_acc)\n"
      ]
    },
    {
      "cell_type": "code",
      "execution_count": 18,
      "metadata": {
        "id": "xwmbrfj9vlse",
        "colab": {
          "base_uri": "https://localhost:8080/"
        },
        "outputId": "2c3d1f2e-afa8-40a4-f349-493aa279a656"
      },
      "outputs": [
        {
          "output_type": "stream",
          "name": "stdout",
          "text": [
            "5/5 [==============================] - 6s 119ms/step - loss: 0.3304 - accuracy: 0.9643\n",
            "Validation accuracy: 0.9642857313156128\n"
          ]
        }
      ],
      "source": [
        "#Validation set Accuracy\n",
        "val_loss, val_acc = cnn.evaluate(validation_set)\n",
        "print('Validation accuracy:', val_acc)"
      ]
    },
    {
      "cell_type": "markdown",
      "metadata": {
        "id": "t7ot9tPqv-Ew"
      },
      "source": [
        "##Test set evaluation"
      ]
    },
    {
      "cell_type": "code",
      "execution_count": 19,
      "metadata": {
        "id": "6GsfqSB9wA6l",
        "colab": {
          "base_uri": "https://localhost:8080/"
        },
        "outputId": "8c83d471-b732-40a6-e2c6-ce4760595ed2"
      },
      "outputs": [
        {
          "output_type": "stream",
          "name": "stdout",
          "text": [
            "Found 140 files belonging to 7 classes.\n"
          ]
        }
      ],
      "source": [
        "test_set = tf.keras.utils.image_dataset_from_directory(\n",
        "    '/content/drive/MyDrive/Millets_dataset/millets3/test',\n",
        "    labels=\"inferred\",\n",
        "    label_mode=\"categorical\",\n",
        "    class_names=None,\n",
        "    color_mode=\"rgb\",\n",
        "    batch_size=32,\n",
        "    image_size=(64, 64),\n",
        "    shuffle=True,\n",
        "    seed=None,\n",
        "    validation_split=None,\n",
        "    subset=None,\n",
        "    interpolation=\"bilinear\",\n",
        "    follow_links=False,\n",
        "    crop_to_aspect_ratio=False\n",
        ")"
      ]
    },
    {
      "cell_type": "markdown",
      "metadata": {
        "id": "CJn9wL4Zj50c"
      },
      "source": [
        "##Saving Model"
      ]
    },
    {
      "cell_type": "code",
      "execution_count": 20,
      "metadata": {
        "id": "WGq5s1YdjFad",
        "colab": {
          "base_uri": "https://localhost:8080/"
        },
        "outputId": "99d4effe-72a9-49a2-a526-002f8b979c6b"
      },
      "outputs": [
        {
          "output_type": "stream",
          "name": "stderr",
          "text": [
            "/usr/local/lib/python3.10/dist-packages/keras/src/engine/training.py:3103: UserWarning: You are saving your model as an HDF5 file via `model.save()`. This file format is considered legacy. We recommend using instead the native Keras format, e.g. `model.save('my_model.keras')`.\n",
            "  saving_api.save_model(\n"
          ]
        }
      ],
      "source": [
        "cnn.save('trained_model.h5')"
      ]
    },
    {
      "cell_type": "code",
      "execution_count": 21,
      "metadata": {
        "id": "kqZqD-wGmIFK",
        "colab": {
          "base_uri": "https://localhost:8080/"
        },
        "outputId": "90b41100-e021-4f28-9c93-ea8af329cfa9"
      },
      "outputs": [
        {
          "output_type": "execute_result",
          "data": {
            "text/plain": [
              "{'loss': [12.248562812805176,\n",
              "  1.9102975130081177,\n",
              "  1.8917940855026245,\n",
              "  1.848543405532837,\n",
              "  1.7937432527542114,\n",
              "  1.6933962106704712,\n",
              "  1.687556505203247,\n",
              "  1.580003023147583,\n",
              "  1.4686414003372192,\n",
              "  1.4450173377990723,\n",
              "  1.2643736600875854,\n",
              "  1.1563773155212402,\n",
              "  1.1365740299224854,\n",
              "  0.9442176222801208,\n",
              "  0.7887547016143799,\n",
              "  0.7792816758155823,\n",
              "  0.6441118717193604,\n",
              "  0.5928764939308167,\n",
              "  0.517366886138916,\n",
              "  0.40031668543815613,\n",
              "  0.3316119909286499,\n",
              "  0.2958940267562866,\n",
              "  0.2441590279340744,\n",
              "  0.31270718574523926,\n",
              "  0.2768271863460541,\n",
              "  0.383514940738678,\n",
              "  0.18148940801620483,\n",
              "  0.15998421609401703,\n",
              "  0.08875566720962524,\n",
              "  0.06970194727182388,\n",
              "  0.08775188773870468,\n",
              "  0.054899755865335464],\n",
              " 'accuracy': [0.16571427881717682,\n",
              "  0.2085714340209961,\n",
              "  0.2085714340209961,\n",
              "  0.2199999988079071,\n",
              "  0.2914285659790039,\n",
              "  0.31285715103149414,\n",
              "  0.31142857670783997,\n",
              "  0.37285715341567993,\n",
              "  0.4342857003211975,\n",
              "  0.4514285624027252,\n",
              "  0.5271428823471069,\n",
              "  0.6000000238418579,\n",
              "  0.5699999928474426,\n",
              "  0.6814285516738892,\n",
              "  0.7400000095367432,\n",
              "  0.7257142663002014,\n",
              "  0.7885714173316956,\n",
              "  0.8028571605682373,\n",
              "  0.8257142901420593,\n",
              "  0.8642857074737549,\n",
              "  0.8942857384681702,\n",
              "  0.9142857193946838,\n",
              "  0.9257143139839172,\n",
              "  0.8971428275108337,\n",
              "  0.9200000166893005,\n",
              "  0.9085714221000671,\n",
              "  0.9471428394317627,\n",
              "  0.954285740852356,\n",
              "  0.9757142663002014,\n",
              "  0.9842857122421265,\n",
              "  0.9814285635948181,\n",
              "  0.9857142567634583],\n",
              " 'val_loss': [1.955204963684082,\n",
              "  1.9244840145111084,\n",
              "  1.843198537826538,\n",
              "  1.80021333694458,\n",
              "  1.655472993850708,\n",
              "  1.5383156538009644,\n",
              "  1.5567660331726074,\n",
              "  1.3993263244628906,\n",
              "  1.2663967609405518,\n",
              "  1.422102928161621,\n",
              "  0.9024218320846558,\n",
              "  1.1582072973251343,\n",
              "  0.7791815400123596,\n",
              "  0.9286140203475952,\n",
              "  0.5507185459136963,\n",
              "  0.6054626703262329,\n",
              "  0.6127753257751465,\n",
              "  0.5764392018318176,\n",
              "  0.3406533896923065,\n",
              "  0.39551079273223877,\n",
              "  0.6270349621772766,\n",
              "  0.546119213104248,\n",
              "  0.432484894990921,\n",
              "  0.5184357762336731,\n",
              "  0.5072656273841858,\n",
              "  0.40928664803504944,\n",
              "  0.18871141970157623,\n",
              "  0.3337355852127075,\n",
              "  0.32947736978530884,\n",
              "  0.4518860876560211,\n",
              "  0.3270653486251831,\n",
              "  0.3304290175437927],\n",
              " 'val_accuracy': [0.20000000298023224,\n",
              "  0.18571428954601288,\n",
              "  0.24285714328289032,\n",
              "  0.2785714268684387,\n",
              "  0.2928571403026581,\n",
              "  0.3857142925262451,\n",
              "  0.3928571343421936,\n",
              "  0.4571428596973419,\n",
              "  0.5285714268684387,\n",
              "  0.44999998807907104,\n",
              "  0.6642857193946838,\n",
              "  0.5785714387893677,\n",
              "  0.7142857313156128,\n",
              "  0.7571428418159485,\n",
              "  0.8428571224212646,\n",
              "  0.8285714387893677,\n",
              "  0.8214285969734192,\n",
              "  0.8214285969734192,\n",
              "  0.8928571343421936,\n",
              "  0.8785714507102966,\n",
              "  0.8714285492897034,\n",
              "  0.9428571462631226,\n",
              "  0.8714285492897034,\n",
              "  0.8785714507102966,\n",
              "  0.8714285492897034,\n",
              "  0.9428571462631226,\n",
              "  0.9714285731315613,\n",
              "  0.9428571462631226,\n",
              "  0.9571428298950195,\n",
              "  0.9642857313156128,\n",
              "  0.9642857313156128,\n",
              "  0.9642857313156128]}"
            ]
          },
          "metadata": {},
          "execution_count": 21
        }
      ],
      "source": [
        "training_history.history #Return Dictionary of history"
      ]
    },
    {
      "cell_type": "code",
      "execution_count": 22,
      "metadata": {
        "id": "6qsOlHvkmKkF"
      },
      "outputs": [],
      "source": [
        "#Recording History in json\n",
        "import json\n",
        "with open('training_hist.json','w') as f:\n",
        "  json.dump(training_history.history,f)"
      ]
    },
    {
      "cell_type": "code",
      "execution_count": 23,
      "metadata": {
        "id": "W8yMG1WfmT2C",
        "colab": {
          "base_uri": "https://localhost:8080/"
        },
        "outputId": "6658b6c4-845c-4372-a44d-a274e22f634c"
      },
      "outputs": [
        {
          "output_type": "stream",
          "name": "stdout",
          "text": [
            "dict_keys(['loss', 'accuracy', 'val_loss', 'val_accuracy'])\n"
          ]
        }
      ],
      "source": [
        "print(training_history.history.keys())"
      ]
    },
    {
      "cell_type": "markdown",
      "metadata": {
        "id": "zgp1C2PcmiBk"
      },
      "source": [
        "##Calculating Accuracy of Model Achieved on Validation set"
      ]
    },
    {
      "cell_type": "code",
      "execution_count": 24,
      "metadata": {
        "id": "3QnbaAcBmb0e",
        "colab": {
          "base_uri": "https://localhost:8080/"
        },
        "outputId": "e550ac45-de7f-43d5-c0aa-044df916a682"
      },
      "outputs": [
        {
          "output_type": "stream",
          "name": "stdout",
          "text": [
            "Validation set Accuracy: 96.42857313156128 %\n"
          ]
        }
      ],
      "source": [
        "print(\"Validation set Accuracy: {} %\".format(training_history.history['val_accuracy'][-1]*100))"
      ]
    },
    {
      "cell_type": "markdown",
      "metadata": {
        "id": "yPDMaTbTmsR7"
      },
      "source": [
        "##Accuracy Visualization"
      ]
    },
    {
      "cell_type": "markdown",
      "metadata": {
        "id": "5BsmGiFrmvhG"
      },
      "source": [
        "##Training Visualization"
      ]
    },
    {
      "cell_type": "code",
      "execution_count": 25,
      "metadata": {
        "id": "gD6_vUQLmmjc"
      },
      "outputs": [],
      "source": [
        "#training_history.history['accuracy']"
      ]
    },
    {
      "cell_type": "code",
      "execution_count": 26,
      "metadata": {
        "id": "WR4VgEvum_lh",
        "colab": {
          "base_uri": "https://localhost:8080/",
          "height": 472
        },
        "outputId": "224c3a77-0250-4bfe-d52a-6409c979774d"
      },
      "outputs": [
        {
          "output_type": "display_data",
          "data": {
            "text/plain": [
              "<Figure size 640x480 with 1 Axes>"
            ],
            "image/png": "[encoded data removed]"
          },
          "metadata": {}
        }
      ],
      "source": [
        "epochs = [i for i in range(1,33)]\n",
        "plt.plot(epochs,training_history.history['accuracy'],color='red')\n",
        "plt.xlabel('No. of Epochs')\n",
        "plt.ylabel('Traiining Accuracy')\n",
        "plt.title('Visualization of Training Accuracy Result')\n",
        "plt.show()"
      ]
    },
    {
      "cell_type": "markdown",
      "metadata": {
        "id": "tPRDO7VSnHVq"
      },
      "source": [
        "##Validation Accuracy\n"
      ]
    },
    {
      "cell_type": "code",
      "execution_count": 27,
      "metadata": {
        "id": "vw7OeO6qnCs8",
        "colab": {
          "base_uri": "https://localhost:8080/",
          "height": 472
        },
        "outputId": "c5ed3b43-34b3-40e1-ba74-fc0e0f1b01cd"
      },
      "outputs": [
        {
          "output_type": "display_data",
          "data": {
            "text/plain": [
              "<Figure size 640x480 with 1 Axes>"
            ],
            "image/png": "[encoded data removed]"
          },
          "metadata": {}
        }
      ],
      "source": [
        "plt.plot(epochs,training_history.history['val_accuracy'],color='blue')\n",
        "plt.xlabel('No. of Epochs')\n",
        "plt.ylabel('Validation Accuracy')\n",
        "plt.title('Visualization of Validation Accuracy Result')\n",
        "plt.show()"
      ]
    },
    {
      "cell_type": "markdown",
      "metadata": {
        "id": "-75H6B9cnQac"
      },
      "source": [
        "##Test set Evaluation"
      ]
    },
    {
      "cell_type": "code",
      "execution_count": 28,
      "metadata": {
        "id": "2vWcUq5AnLF1",
        "colab": {
          "base_uri": "https://localhost:8080/"
        },
        "outputId": "1082ff25-05a4-4f25-a2c9-2a917c4d6b5d"
      },
      "outputs": [
        {
          "output_type": "stream",
          "name": "stdout",
          "text": [
            "Found 140 files belonging to 7 classes.\n"
          ]
        }
      ],
      "source": [
        "test_set = tf.keras.utils.image_dataset_from_directory(\n",
        "    '/content/drive/MyDrive/Millets_dataset/millets3/test',\n",
        "    labels=\"inferred\",\n",
        "    label_mode=\"categorical\",\n",
        "    class_names=None,\n",
        "    color_mode=\"rgb\",\n",
        "    batch_size=32,\n",
        "    image_size=(64, 64),\n",
        "    shuffle=True,\n",
        "    seed=None,\n",
        "    validation_split=None,\n",
        "    subset=None,\n",
        "    interpolation=\"bilinear\",\n",
        "    follow_links=False,\n",
        "    crop_to_aspect_ratio=False\n",
        ")"
      ]
    },
    {
      "cell_type": "code",
      "execution_count": 29,
      "metadata": {
        "id": "poS9UtH4nT7r",
        "colab": {
          "base_uri": "https://localhost:8080/"
        },
        "outputId": "8920153f-5f64-4d53-e589-7f13d3f2e215"
      },
      "outputs": [
        {
          "output_type": "stream",
          "name": "stdout",
          "text": [
            "5/5 [==============================] - 24s 118ms/step - loss: 0.3304 - accuracy: 0.9643\n",
            "Test accuracy: 0.9642857313156128\n"
          ]
        }
      ],
      "source": [
        "test_loss,test_acc = cnn.evaluate(test_set)\n",
        "print('Test accuracy:', test_acc)"
      ]
    }
  ],
  "metadata": {
    "colab": {
      "provenance": []
    },
    "kernelspec": {
      "display_name": "Python 3 (ipykernel)",
      "language": "python",
      "name": "python3"
    },
    "language_info": {
      "codemirror_mode": {
        "name": "ipython",
        "version": 3
      },
      "file_extension": ".py",
      "mimetype": "text/x-python",
      "name": "python",
      "nbconvert_exporter": "python",
      "pygments_lexer": "ipython3",
      "version": "3.11.4"
    }
  },
  "nbformat": 4,
  "nbformat_minor": 0
}